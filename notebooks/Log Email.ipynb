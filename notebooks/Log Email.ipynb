{
  "nbformat": 4,
  "nbformat_minor": 0,
  "metadata": {
    "colab": {
      "name": "Untitled",
      "version": "0.3.2",
      "provenance": [],
      "collapsed_sections": []
    },
    "kernelspec": {
      "name": "python3",
      "display_name": "Python 3"
    }
  },
  "cells": [
    {
      "cell_type": "code",
      "metadata": {
        "colab_type": "code",
        "id": "j2kNXTQt9fhQ",
        "colab": {}
      },
      "source": [
        "import email\n",
        "import smtplib\n",
        "import time\n",
        "import datetime\n",
        "import pandas as pd"
      ],
      "execution_count": 0,
      "outputs": []
    },
    {
      "cell_type": "code",
      "metadata": {
        "id": "xNn6LJCl9gKr",
        "colab_type": "code",
        "colab": {}
      },
      "source": [
        "OLD_Acuracia = 0\n",
        "Atual_Acuracia = 0"
      ],
      "execution_count": 0,
      "outputs": []
    },
    {
      "cell_type": "code",
      "metadata": {
        "id": "7uCgpgGh9jWI",
        "colab_type": "code",
        "colab": {}
      },
      "source": [
        "DASH = \"www.test.com.br\""
      ],
      "execution_count": 0,
      "outputs": []
    },
    {
      "cell_type": "code",
      "metadata": {
        "id": "6yx9iqDc9ppi",
        "colab_type": "code",
        "outputId": "e805e401-f146-4b8c-d94c-b243ef02d277",
        "colab": {
          "base_uri": "https://localhost:8080/",
          "height": 137
        }
      },
      "source": [
        "# initialize list of lists \n",
        "data = [['Step 01 = ', ' - ', ' - ', ' - '], ['Step 02 = ', ' - ', ' - ', ' - '], ['Step 03 = ', ' - ', ' - ', ' - ']] \n",
        "  \n",
        "# Create the pandas DataFrame \n",
        "df = pd.DataFrame(data, columns = ['Steps', 'Data','Status','Comment']) \n",
        "  \n",
        "# print dataframe. \n",
        "df "
      ],
      "execution_count": 0,
      "outputs": [
        {
          "output_type": "execute_result",
          "data": {
            "text/html": [
              "<div>\n",
              "<style scoped>\n",
              "    .dataframe tbody tr th:only-of-type {\n",
              "        vertical-align: middle;\n",
              "    }\n",
              "\n",
              "    .dataframe tbody tr th {\n",
              "        vertical-align: top;\n",
              "    }\n",
              "\n",
              "    .dataframe thead th {\n",
              "        text-align: right;\n",
              "    }\n",
              "</style>\n",
              "<table border=\"1\" class=\"dataframe\">\n",
              "  <thead>\n",
              "    <tr style=\"text-align: right;\">\n",
              "      <th></th>\n",
              "      <th>Steps</th>\n",
              "      <th>Data</th>\n",
              "      <th>Status</th>\n",
              "      <th>Comment</th>\n",
              "    </tr>\n",
              "  </thead>\n",
              "  <tbody>\n",
              "    <tr>\n",
              "      <th>0</th>\n",
              "      <td>Step 01 =</td>\n",
              "      <td>-</td>\n",
              "      <td>-</td>\n",
              "      <td>-</td>\n",
              "    </tr>\n",
              "    <tr>\n",
              "      <th>1</th>\n",
              "      <td>Step 02 =</td>\n",
              "      <td>-</td>\n",
              "      <td>-</td>\n",
              "      <td>-</td>\n",
              "    </tr>\n",
              "    <tr>\n",
              "      <th>2</th>\n",
              "      <td>Step 03 =</td>\n",
              "      <td>-</td>\n",
              "      <td>-</td>\n",
              "      <td>-</td>\n",
              "    </tr>\n",
              "  </tbody>\n",
              "</table>\n",
              "</div>"
            ],
            "text/plain": [
              "        Steps Data Status Comment\n",
              "0  Step 01 =    -      -       - \n",
              "1  Step 02 =    -      -       - \n",
              "2  Step 03 =    -      -       - "
            ]
          },
          "metadata": {
            "tags": []
          },
          "execution_count": 6
        }
      ]
    },
    {
      "cell_type": "code",
      "metadata": {
        "id": "R2yrPZSq9lPw",
        "colab_type": "code",
        "colab": {}
      },
      "source": [
        "def validador_log():\n",
        "  #BODY DO EMAIL\n",
        "  df.to_html('df.html')\n",
        "  body = \"{} \\n\\n Acuracia Anterior = {}% \\n\\n Acuracia atual = {}% \\n\\n Link para o Dashboard = {} \\n\\n Ass. Equipe Analytics Ambev\".format(df, \"{0:.2f}\".format(OLD_Acuracia*100),\"{0:.2f}\".format(Atual_Acuracia*100),DASH)\n",
        "  \n",
        "  #SMTP\n",
        "  server = smtplib.SMTP('smtp.gmail.com',587)\n",
        "  server.ehlo()\n",
        "  server.starttls()\n",
        "  server.ehlo()\n",
        "  \n",
        "  #LOGIN\n",
        "  user = 'youremail@domain.com'\n",
        "  passwd = 'yourpassword'\n",
        "  server.login(user, passwd)\n",
        "  \n",
        "  #MONTANDO EMAIL\n",
        "  subject = '[AA] Checker Safety'\n",
        "  sender = 'sendemail@domain.com'\n",
        "  recipients = ['receiveremail@domain.com']\n",
        "  \n",
        "  msg = 'Subject: {}\\n\\n{}'.format(subject, body)\n",
        "  \n",
        "  server.sendmail(sender, recipients, msg)\n",
        "  server.close()"
      ],
      "execution_count": 0,
      "outputs": []
    },
    {
      "cell_type": "code",
      "metadata": {
        "id": "DFmK0i7W9nm4",
        "colab_type": "code",
        "outputId": "4fd3362b-6ca6-4316-ad50-b199c8c53d4d",
        "colab": {
          "base_uri": "https://localhost:8080/",
          "height": 70
        }
      },
      "source": [
        "#SMTP\n",
        "  server = smtplib.SMTP('smtp.gmail.com',587)\n",
        "  server.ehlo()\n",
        "  server.starttls()\n",
        "  server.ehlo()"
      ],
      "execution_count": 0,
      "outputs": [
        {
          "output_type": "execute_result",
          "data": {
            "text/plain": [
              "(250,\n",
              " b'smtp.gmail.com at your service, [35.230.21.88]\\nSIZE 35882577\\n8BITMIME\\nAUTH LOGIN PLAIN XOAUTH2 PLAIN-CLIENTTOKEN OAUTHBEARER XOAUTH\\nENHANCEDSTATUSCODES\\nPIPELINING\\nCHUNKING\\nSMTPUTF8')"
            ]
          },
          "metadata": {
            "tags": []
          },
          "execution_count": 14
        }
      ]
    },
    {
      "cell_type": "code",
      "metadata": {
        "id": "NXjiDpl6_L9Q",
        "colab_type": "code",
        "outputId": "5b30f792-cae6-4ba1-b716-2920bae39574",
        "colab": {
          "base_uri": "https://localhost:8080/",
          "height": 33
        }
      },
      "source": [
        "  #LOGIN\n",
        "  user = 'youremail@yourdomain.com'\n",
        "  passwd = 'yourpassword'\n",
        "  server.login(user, passwd)"
      ],
      "execution_count": 0,
      "outputs": [
        {
          "output_type": "execute_result",
          "data": {
            "text/plain": [
              "(503, b'5.5.1 MAIL first. 8sm5626700pfj.93 - gsmtp')"
            ]
          },
          "metadata": {
            "tags": []
          },
          "execution_count": 21
        }
      ]
    },
    {
      "cell_type": "code",
      "metadata": {
        "id": "2SG7wqQv9s3f",
        "colab_type": "code",
        "colab": {}
      },
      "source": [
        "#\n",
        "try: \n",
        "  dataset = pd.read_csv('modelo_unidade_diario_comentado.csv', encoding='ISO-8859-1', sep=';')\n",
        "  df.iloc[0, df.columns.get_loc('Data')] = datetime.datetime.now().strftime(\"%d/%m/%y - %H:%M:%S\")\n",
        "  df.iloc[0, df.columns.get_loc('Status')] = 'SUCESSO'\n",
        "  df.iloc[0, df.columns.get_loc('Comment')] = 'Import dos Dados com SUCESSO'\n",
        "  validador_log()\n",
        "  \n",
        "except:\n",
        "  df.iloc[0, df.columns.get_loc('Data')] = datetime.datetime.now().strftime(\"%d/%m/%y - %H:%M\")\n",
        "  df.iloc[0, df.columns.get_loc('Status')] = 'FALHA'\n",
        "  df.iloc[0, df.columns.get_loc('Comment')] = 'Import dos Dados com FALHA'\n",
        "  validador_log() \n"
      ],
      "execution_count": 0,
      "outputs": []
    },
    {
      "cell_type": "code",
      "metadata": {
        "id": "7-te2RKO-fgD",
        "colab_type": "code",
        "outputId": "05de7a33-bda7-4f63-978e-40aec637defa",
        "colab": {
          "base_uri": "https://localhost:8080/",
          "height": 137
        }
      },
      "source": [
        "df"
      ],
      "execution_count": 0,
      "outputs": [
        {
          "output_type": "execute_result",
          "data": {
            "text/html": [
              "<div>\n",
              "<style scoped>\n",
              "    .dataframe tbody tr th:only-of-type {\n",
              "        vertical-align: middle;\n",
              "    }\n",
              "\n",
              "    .dataframe tbody tr th {\n",
              "        vertical-align: top;\n",
              "    }\n",
              "\n",
              "    .dataframe thead th {\n",
              "        text-align: right;\n",
              "    }\n",
              "</style>\n",
              "<table border=\"1\" class=\"dataframe\">\n",
              "  <thead>\n",
              "    <tr style=\"text-align: right;\">\n",
              "      <th></th>\n",
              "      <th>Steps</th>\n",
              "      <th>Data</th>\n",
              "      <th>Status</th>\n",
              "      <th>Comment</th>\n",
              "    </tr>\n",
              "  </thead>\n",
              "  <tbody>\n",
              "    <tr>\n",
              "      <th>0</th>\n",
              "      <td>Step 01 =</td>\n",
              "      <td>22/05/19 - 14:43</td>\n",
              "      <td>FALHA</td>\n",
              "      <td>Import dos Dados com FALHA</td>\n",
              "    </tr>\n",
              "    <tr>\n",
              "      <th>1</th>\n",
              "      <td>Step 02 =</td>\n",
              "      <td>-</td>\n",
              "      <td>-</td>\n",
              "      <td>-</td>\n",
              "    </tr>\n",
              "    <tr>\n",
              "      <th>2</th>\n",
              "      <td>Step 03 =</td>\n",
              "      <td>-</td>\n",
              "      <td>-</td>\n",
              "      <td>-</td>\n",
              "    </tr>\n",
              "  </tbody>\n",
              "</table>\n",
              "</div>"
            ],
            "text/plain": [
              "        Steps              Data Status                     Comment\n",
              "0  Step 01 =   22/05/19 - 14:43  FALHA  Import dos Dados com FALHA\n",
              "1  Step 02 =                 -      -                           - \n",
              "2  Step 03 =                 -      -                           - "
            ]
          },
          "metadata": {
            "tags": []
          },
          "execution_count": 19
        }
      ]
    },
    {
      "cell_type": "code",
      "metadata": {
        "id": "nsA6u1bE9zg0",
        "colab_type": "code",
        "colab": {}
      },
      "source": [
        "OLD_Acuracia = accuracy_score(y_test, prediction)"
      ],
      "execution_count": 0,
      "outputs": []
    }
  ]
}
